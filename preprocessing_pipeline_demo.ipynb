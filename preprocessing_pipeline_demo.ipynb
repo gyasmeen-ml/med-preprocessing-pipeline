{
 "cells": [
  {
   "cell_type": "code",
   "execution_count": null,
   "id": "5b22412c",
   "metadata": {},
   "outputs": [],
   "source": [
    "Step 1: Download dataset: follow instructions in this link (https://github.com/neheller/kits23/tree/main/kits23)\n",
    "        \n",
    "        \n",
    "Step 2: Download preprocessing python scipts - Git hub contains sample dataset to test the preprocessing pipeline\n",
    "cd med_preprocessing_pipeline\n",
    "\n",
    "    \n",
    "Step 3: Data conversion and background cropping\n",
    "python data_conversion.py --data_dir ./sample_dataset/ --raw_data_dir /mnt/hdd/sda/ygeo/tmp_dataset_processed/ --crop_dir /mnt/hdd/sda/ygeo/tmp_dataset_processed/cropped/\n",
    "\n",
    "Step 4: Normalize and Resample: \n",
    "python resample_and_normalize.py --spacing_zxy 1. 0.78125 0.78125 --data_dir /mnt/hdd/sda/ygeo/tmp_dataset_processed/cropped/ --num_threads 4 --output_dir /mnt/hdd/sda/ygeo/tmp_dataset_processed/\n",
    "\n",
    "\n",
    "Step 5: Data loader and augmentations:     \n",
    "python data_loader.py --patch_size_zxy 128 128 128 --data_dir /mnt/hdd/sda/ygeo/tmp_dataset_processed/resampled0/ --batch_size 4 --num_threads 4 "
   ]
  },
  {
   "cell_type": "markdown",
   "id": "03d1d446",
   "metadata": {},
   "source": [
    "# Data conversion and background cropping (zero voxels)"
   ]
  },
  {
   "cell_type": "code",
   "execution_count": null,
   "id": "f1b0ab75",
   "metadata": {},
   "outputs": [],
   "source": [
    "from data_conversion import *\n",
    "\n",
    "data_dir= \"./sample_dataset/\"\n",
    "raw_data_dir= \"/mnt/hdd/sda/ygeo/tmp_dataset_processed/\"\n",
    "crop_dir= \"/mnt/hdd/sda/ygeo/tmp_dataset_processed/cropped/\"\n",
    "num_threads = 4 \n",
    "create_dataset_json(data_dir, raw_data_dir)\n",
    "\n",
    "strt = time.time()\n",
    "background_crop(raw_data_dir, crop_dir, num_threads=num_threads)\n",
    "print(f'Cropping zero voxels finished in {time.time() - strt} seconds')\n",
    "\n",
    "strt = time.time()\n",
    "dataset_properties = analyze_dataset(crop_dir,num_threads)\n",
    "print(f'Save Dataset Information finished in {time.time() - strt} seconds')\n",
    "\n",
    "strt = time.time()\n",
    "dataset_properties = load_pickle(join(crop_dir, \"dataset_properties.pkl\"))\n",
    "out_dir = crop_dir\n",
    "plans = create_plans(dataset_properties, crop_dir, out_dir, data_type=\"3D\")\n",
    "print(f'Create Training Configs finished in {time.time() - strt} seconds')\n"
   ]
  },
  {
   "cell_type": "markdown",
   "id": "7f688cac",
   "metadata": {},
   "source": [
    "# Normalize and Resample"
   ]
  },
  {
   "cell_type": "code",
   "execution_count": null,
   "id": "f9be13ca",
   "metadata": {},
   "outputs": [
    {
     "name": "stdout",
     "output_type": "stream",
     "text": [
      "[array([2.37661875, 1.8567334 , 1.8567334 ]), array([1.     , 0.78125, 0.78125])]\n",
      "Initializing to run preprocessing\n",
      "npz folder: /mnt/hdd/sda/ygeo/code/kits23/kits23_project/dataset_converted/nnUNet_cropped_data/Task100_KiTS23/\n",
      "output_folder: /mnt/hdd/sda/ygeo/tmp_kits23/\n",
      "separate z, order in z is 0 order inplane is 3\n",
      "separate z, order in z is 0 order inplane is 3\n"
     ]
    }
   ],
   "source": [
    "from resample_and_normalize import *\n",
    "def run_preprocessing(crop_dir, output_dir, num_threads=4):\n",
    "    with open(crop_dir+\"/config.pkl\", 'rb') as f:\n",
    "        plans = pickle.load(f)\n",
    "    \n",
    "    \n",
    "    normalization_schemes = plans['normalization_schemes']\n",
    "    use_nonzero_mask_for_normalization = plans['use_mask_for_norm']\n",
    "    intensityproperties = plans['dataset_properties']['intensityproperties']\n",
    "    \n",
    "    preprocessor = GenericPreprocessor(normalization_schemes, use_nonzero_mask_for_normalization,\n",
    "                                         plans['transpose_forward'],\n",
    "                                          intensityproperties)\n",
    "    target_spacings = [i[\"current_spacing\"] for i in plans['plans_per_stage'].values()]\n",
    "    print(target_spacings)\n",
    "    target_spacings = [[1.     , 0.78125, 0.78125]]\n",
    "    \n",
    "    \n",
    "    \n",
    "    preprocessor.run(target_spacings, crop_dir, output_dir, \"\", num_threads)\n",
    "\n",
    "out_dir = crop_dir\n",
    "run_preprocessing(crop_dir, output_dir,)"
   ]
  },
  {
   "cell_type": "code",
   "execution_count": null,
   "id": "221b4761",
   "metadata": {},
   "outputs": [],
   "source": [
    "import numpy as np\n",
    "import matplotlib.pyplot as plt\n",
    "import glob\n",
    "w= 6\n",
    "h= 6\n",
    "fig=plt.figure(figsize=(50,50))\n",
    "data_dir = crop_dir + \"/stage0/\"\n",
    "filenames = glob.glob(data_dir + '/*.npz')\n",
    "\n",
    "i = 1\n",
    "for f in filenames:\n",
    "    img = np.load(f)['data']\n",
    "    \n",
    "    \n",
    "    fig.add_subplot(w,h,i)\n",
    "    i +=1\n",
    "    idx = img.shape[1]//3\n",
    "    plt.imshow(img[0,idx,:,:],cmap='gray'),plt.axis('off')\n",
    "    ## Overlaying mask on images\n",
    "    mask = img[1,idx,:,:]\n",
    "    rgb_mask = np.repeat(mask[:,:,np.newaxis],3, axis=2)\n",
    "    \n",
    "    \n",
    "    #1(kidney) 461, 2(tumour): 453, 3 (cyst): 230. \n",
    "    rgb_mask[mask==1] = [1,0,0]\n",
    "    rgb_mask[mask==2] = [0,1,0]\n",
    "    rgb_mask[mask==3] = [0,0,1]\n",
    "    plt.imshow(rgb_mask, alpha=0.2)\n",
    "    plt.title(img.shape)\n",
    "    print(i, img.shape,img.min(),img.max(),np.unique(rgb_mask[:,:,0]))\n",
    "    if i > w*h:\n",
    "        break\n",
    "    \n",
    "plt.show()"
   ]
  },
  {
   "cell_type": "markdown",
   "id": "e89c28d3",
   "metadata": {},
   "source": [
    "# Data Loader: Cropping and Augmentation"
   ]
  },
  {
   "cell_type": "code",
   "execution_count": null,
   "id": "5d477241",
   "metadata": {},
   "outputs": [],
   "source": [
    "from data_augmentation import *\n",
    "from data_loader import *\n",
    "data_dir_npz = \"/mnt/hdd/sda/ygeo/tmp_kits23/preprocessing_stage0/\"\n",
    "patch_size = [128,128,128]\n",
    "batch_size = 2\n",
    "dataset = load_dataset(data_dir_npz)\n",
    "unpack_dataset(data_dir_npz)\n",
    "\n",
    "dl = DataLoader3D(dataset, patch_size, patch_size , batch_size, oversample_foreground_percent=0.33)\n",
    "#dl2d = DataLoader2D(dataset, (64, 64), np.array(plans['patch_size']).astype(int)[1:], 12, oversample_foreground_percent=0.33)\n",
    "tr, val = get_default_augmentation(dl, dl, patch_size)"
   ]
  },
  {
   "cell_type": "code",
   "execution_count": null,
   "id": "d3f08956",
   "metadata": {
    "scrolled": true
   },
   "outputs": [],
   "source": [
    "import numpy as np\n",
    "import matplotlib.pyplot as plt\n",
    "\n",
    "w=16\n",
    "h=15\n",
    "fig=plt.figure(figsize=(50,50))\n",
    "i=1\n",
    "for x in tr:\n",
    "    print(i, x['data'].shape, x['target'].shape)\n",
    "   \n",
    "    #print(x['properties'])\n",
    "    #print(x['keys'])\n",
    "    #print(x['target'])\n",
    "    \n",
    "    for k in range(x['data'].shape[0]):\n",
    "        for l in range(40,70,5):\n",
    "            fig.add_subplot(w,h,i)\n",
    "            i += 1\n",
    "            plt.imshow(x['data'][k,0,l,:,:],cmap='gray'),plt.axis('off')\n",
    "\n",
    "            fig.add_subplot(w,h,i)\n",
    "            i += 1\n",
    "            plt.imshow(x['target'][k,0,l,:,:], cmap='gray'),plt.axis('off')\n",
    "            if i > 225:\n",
    "                break\n",
    "        if i > 225:\n",
    "            break\n",
    "    if i > 225:\n",
    "        break\n",
    "plt.show()"
   ]
  },
  {
   "cell_type": "markdown",
   "id": "b95a291e",
   "metadata": {},
   "source": [
    "# Slicer Visualisation"
   ]
  },
  {
   "cell_type": "code",
   "execution_count": 1,
   "id": "adfd785d",
   "metadata": {},
   "outputs": [
    {
     "ename": "ModuleNotFoundError",
     "evalue": "No module named 'JupyterNotebooksLib'",
     "output_type": "error",
     "traceback": [
      "\u001b[0;31m---------------------------------------------------------------------------\u001b[0m",
      "\u001b[0;31mModuleNotFoundError\u001b[0m                       Traceback (most recent call last)",
      "Cell \u001b[0;32mIn [1], line 3\u001b[0m\n\u001b[1;32m      1\u001b[0m \u001b[38;5;66;03m### DEMO Download Slicer and connect it to notebook\u001b[39;00m\n\u001b[0;32m----> 3\u001b[0m \u001b[38;5;28;01mimport\u001b[39;00m \u001b[38;5;21;01mJupyterNotebooksLib\u001b[39;00m \u001b[38;5;28;01mas\u001b[39;00m \u001b[38;5;21;01mslicernb\u001b[39;00m\n\u001b[1;32m      4\u001b[0m \u001b[38;5;28;01mimport\u001b[39;00m \u001b[38;5;21;01mslicer\u001b[39;00m\n\u001b[1;32m      6\u001b[0m \u001b[38;5;66;03m# Set viewer size to 50% of screen size\u001b[39;00m\n",
      "\u001b[0;31mModuleNotFoundError\u001b[0m: No module named 'JupyterNotebooksLib'"
     ]
    }
   ],
   "source": [
    "### DEMO Download Slicer and connect it to notebook\n",
    "\n",
    "import JupyterNotebooksLib as slicernb\n",
    "import slicer\n",
    "\n",
    "# Set viewer size to 50% of screen size\n",
    "slicernb.AppWindow.setWindowSize(scale=0.5)\n",
    "# Hide patient information from slice view\n",
    "slicernb.showSliceViewAnnotations(False)"
   ]
  },
  {
   "cell_type": "code",
   "execution_count": null,
   "id": "f032f71b",
   "metadata": {},
   "outputs": [],
   "source": [
    "pip install ipywidgets ipyevents ipycanvas\n",
    "jupyter labextension install @jupyter-widgets/jupyterlab-manager\n",
    "jupyter labextension install @jupyter-widgets/jupyterlab-manager ipycanvas\n",
    "jupyter labextension install @jupyter-widgets/jupyterlab-manager ipyevents"
   ]
  }
 ],
 "metadata": {
  "kernelspec": {
   "display_name": "Python torch",
   "language": "python",
   "name": "ygeorge_torch"
  },
  "language_info": {
   "codemirror_mode": {
    "name": "ipython",
    "version": 3
   },
   "file_extension": ".py",
   "mimetype": "text/x-python",
   "name": "python",
   "nbconvert_exporter": "python",
   "pygments_lexer": "ipython3",
   "version": "3.9.15"
  }
 },
 "nbformat": 4,
 "nbformat_minor": 5
}
